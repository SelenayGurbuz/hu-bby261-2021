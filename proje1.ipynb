{
  "nbformat": 4,
  "nbformat_minor": 0,
  "metadata": {
    "colab": {
      "name": "proje1",
      "provenance": [],
      "mount_file_id": "1A56e36EB9ZLfMlj5VbT1mhXw6DfHK6U8",
      "authorship_tag": "ABX9TyPD0gGiaXKkGZUvrX5LbHnj",
      "include_colab_link": true
    },
    "kernelspec": {
      "display_name": "Python 3",
      "name": "python3"
    },
    "language_info": {
      "name": "python"
    }
  },
  "cells": [
    {
      "cell_type": "markdown",
      "metadata": {
        "id": "view-in-github",
        "colab_type": "text"
      },
      "source": [
        "<a href=\"https://colab.research.google.com/github/SelenayGurbuz/hu-bby261-2021/blob/main/proje1.ipynb\" target=\"_parent\"><img src=\"https://colab.research.google.com/assets/colab-badge.svg\" alt=\"Open In Colab\"/></a>"
      ]
    },
    {
      "cell_type": "code",
      "metadata": {
        "colab": {
          "base_uri": "https://localhost:8080/"
        },
        "id": "XSRK1Xgg9z2y",
        "outputId": "1f9e3e76-4025-4cb4-a43f-0172ac3682d7"
      },
      "source": [
        "import urllib.request\n",
        "from bs4 import BeautifulSoup\n",
        "webURLs = [\"https://www.hacettepe.edu.tr/\", \"https://www.ankara.edu.tr/\", \"https://gazi.edu.tr/\", \"https://www.metu.edu.tr/tr\"]\n",
        "\n",
        "for webURL in webURLs:\n",
        " webSite = urllib.request.urlopen(webURL)\n",
        " getBytes = webSite.read()\n",
        " webPage = getBytes.decode(\"utf8\")\n",
        " webSite.close()\n",
        " soup = BeautifulSoup(webPage, 'html.parser')\n",
        " print(soup.title.contents)\n",
        "\n",
        "dosya = \"/content/drive/MyDrive/Colab Notebooks/web.sites.txt\"\n",
        "f = open(dosya, \"r\")\n",
        "for line in f.readlines():\n",
        "    print(line)\n",
        "f.close()\n",
        "\n",
        "dosya = \"/content/drive/MyDrive/Colab Notebooks/web.data.txt\"\n",
        "f = open(dosya, 'a') # Mevcut veriye ek veri yazılması için parametre: 'a'\n",
        "bilgi = input(\"Eklenecek bilgi: \")\n",
        "f.write(bilgi+\"\\n\") # Her yeni verinin bir alt satıra yazdırılması \"test\\n\"\n",
        "f.close()\n",
        "f = open(dosya, \"r\")\n",
        "for line in f.readlines():\n",
        "    print(line)\n",
        "\n",
        "f.close()"
      ],
      "execution_count": null,
      "outputs": [
        {
          "output_type": "stream",
          "name": "stdout",
          "text": [
            "['Hacettepe Üniversitesi']\n",
            "['\\r\\n                        Ankara Üniversitesi | Cumhuriyetin İlk Üniversitesi        ']\n",
            "[' Gazi Üniversitesi ']\n",
            "['ODTÜ - Orta Doğu Teknik Üniversitesi | BİZLER DÜNYAYI DEĞİŞTİREBİLİRİZ']\n",
            "https://www.hacettepe.edu.tr/\n",
            "\n",
            "https://www.ankara.edu.tr/\n",
            "\n",
            "https://gazi.edu.tr/ \n",
            "\n",
            "https://www.metu.edu.tr/tr Daha ileriye en iyiye\n",
            "\n",
            "Cumhuriyet'in İlk Üniversitesi\n",
            "\n",
            "Gazili olmak ayrıcalıktır\n",
            "\n",
            "Bizler dünyayı değiştirebiliriz\n",
            "\n"
          ]
        }
      ]
    }
  ]
}